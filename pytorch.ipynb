{
 "cells": [
  {
   "cell_type": "markdown",
   "metadata": {},
   "source": [
    "# 检查pytorch的GPU是否可用"
   ]
  },
  {
   "cell_type": "code",
   "execution_count": 4,
   "metadata": {},
   "outputs": [
    {
     "name": "stdout",
     "output_type": "stream",
     "text": [
      "1.2.0+cu92\n",
      "True\n",
      "1\n",
      "GeForce RTX 2080 SUPER\n",
      "_CudaDeviceProperties(name='GeForce RTX 2080 SUPER', major=7, minor=5, total_memory=7979MB, multi_processor_count=48)\n"
     ]
    }
   ],
   "source": [
    "import torch\n",
    "\n",
    "print(torch.__version__)\n",
    "print(torch.cuda.is_available())\n",
    "print(torch.cuda.device_count())\n",
    "print(torch.cuda.get_device_name())\n",
    "print(torch.cuda.get_device_properties(0))"
   ]
  },
  {
   "cell_type": "markdown",
   "metadata": {},
   "source": [
    "# tensor在某个通道上做平均"
   ]
  },
  {
   "cell_type": "code",
   "execution_count": null,
   "metadata": {},
   "outputs": [],
   "source": [
    "import torch"
   ]
  },
  {
   "cell_type": "code",
   "execution_count": 10,
   "metadata": {},
   "outputs": [
    {
     "name": "stdout",
     "output_type": "stream",
     "text": [
      "tensor([[[[ 0.,  1.],\n",
      "          [ 2.,  3.]],\n",
      "\n",
      "         [[ 4.,  5.],\n",
      "          [ 6.,  7.]]],\n",
      "\n",
      "\n",
      "        [[[ 8.,  9.],\n",
      "          [10., 11.]],\n",
      "\n",
      "         [[12., 13.],\n",
      "          [14., 15.]]]], dtype=torch.float64)\n"
     ]
    },
    {
     "data": {
      "text/plain": [
       "tensor([[  8.,  13.,  20.,  29.],\n",
       "        [104., 125., 148., 173.]], dtype=torch.float64)"
      ]
     },
     "execution_count": 10,
     "metadata": {},
     "output_type": "execute_result"
    }
   ],
   "source": [
    "x=torch.arange(16).view(2,2,2,2).to(float)\n",
    "print(x)\n",
    "x.pow(2).mean(1).view(x.size(0), -1)\n",
    "# mean(1)是在通道维数上作平均"
   ]
  },
  {
   "cell_type": "markdown",
   "metadata": {},
   "source": [
    "# 设置flag增加运行效率"
   ]
  },
  {
   "cell_type": "code",
   "execution_count": null,
   "metadata": {},
   "outputs": [],
   "source": [
    "import torch.backends.cudnn as cudnn\n",
    "cudnn.benchmark = True"
   ]
  },
  {
   "cell_type": "markdown",
   "metadata": {},
   "source": [
    "# 嵌套词典nested_dicted"
   ]
  },
  {
   "cell_type": "code",
   "execution_count": 15,
   "metadata": {},
   "outputs": [
    {
     "name": "stdout",
     "output_type": "stream",
     "text": [
      "(('hi', 'you', 'dd'), 3)\n",
      "(('h', 'yo', 'd'), 2)\n"
     ]
    }
   ],
   "source": [
    "from nested_dict import nested_dict\n",
    "\n",
    "a = {\"hi\":{\"you\":{\"dd\": 3}}, \"h\":{\"yo\":{\"d\": 2}}}\n",
    "for i in nested_dict(a).items_flat():\n",
    "    print(i)"
   ]
  },
  {
   "cell_type": "code",
   "execution_count": 16,
   "metadata": {},
   "outputs": [
    {
     "name": "stdout",
     "output_type": "stream",
     "text": [
      "{'hi.you.dd': 3, 'h.yo.d': 2}\n"
     ]
    }
   ],
   "source": [
    "b = {'.'.join(k): v for k, v in nested_dict(a).items_flat()}\n",
    "print(b)"
   ]
  },
  {
   "cell_type": "markdown",
   "metadata": {},
   "source": [
    "# 命令行参数"
   ]
  },
  {
   "cell_type": "code",
   "execution_count": null,
   "metadata": {},
   "outputs": [],
   "source": [
    "import argparse\n",
    "\n",
    "parser = argparse.ArgumentParser(description='Test')\n",
    "parser.add_argument('--depth', default=16, type=int)\n",
    "parser.add_argument('--width', default=1, type=float)\n",
    "parser.add_argument('--dataset', default='CIFAR10', type=str)\n",
    "parser.add_argument('--epochs', default=200, type=int, metavar='N',\n",
    "                    help='number of total epochs to run')\n",
    "\n",
    "args = parser.parse_args()  # 获取命令行参数\n",
    "# args.depth"
   ]
  },
  {
   "cell_type": "markdown",
   "metadata": {},
   "source": [
    "## BCE loss and BCEWithLogitsLoss"
   ]
  },
  {
   "cell_type": "markdown",
   "metadata": {},
   "source": [
    "两者区别为输入是否经过sigmoid激活\n",
    "https://discuss.pytorch.org/t/multi-label-multi-class-class-imbalance/37573"
   ]
  },
  {
   "cell_type": "code",
   "execution_count": 37,
   "metadata": {},
   "outputs": [],
   "source": [
    "import torch\n",
    "from torch import nn"
   ]
  },
  {
   "cell_type": "code",
   "execution_count": 38,
   "metadata": {},
   "outputs": [],
   "source": [
    "x = torch.tensor([[0.1,0.8]], dtype=torch.float)\n",
    "y = torch.tensor([[0,1]], dtype=torch.float)"
   ]
  },
  {
   "cell_type": "markdown",
   "metadata": {},
   "source": [
    "使用标准的BCEWithLogitsLoss进行计算"
   ]
  },
  {
   "cell_type": "code",
   "execution_count": 41,
   "metadata": {},
   "outputs": [
    {
     "name": "stdout",
     "output_type": "stream",
     "text": [
      "tensor(0.5577)\n"
     ]
    }
   ],
   "source": [
    "cri_1 = nn.BCEWithLogitsLoss()\n",
    "loss_1 = cri_1(x,y)\n",
    "print(loss_1)"
   ]
  },
  {
   "cell_type": "markdown",
   "metadata": {},
   "source": [
    "手动计算"
   ]
  },
  {
   "cell_type": "code",
   "execution_count": 30,
   "metadata": {},
   "outputs": [
    {
     "name": "stdout",
     "output_type": "stream",
     "text": [
      "tensor([[0.5250, 0.6900]])\n",
      "tensor(0.5577)\n"
     ]
    }
   ],
   "source": [
    "sigmoid_x = nn.Sigmoid()(x)\n",
    "print(sigmoid_x)\n",
    "loss = (-torch.log(1-sigmoid_x[0][0]) -\n",
    "          torch.log(sigmoid_x[0][1]))/2\n",
    "print(loss)"
   ]
  },
  {
   "cell_type": "markdown",
   "metadata": {},
   "source": [
    "假设第2类类别不均衡，pos=100,neg=300，所以正类的loss比重应该为300/100=3"
   ]
  },
  {
   "cell_type": "code",
   "execution_count": 34,
   "metadata": {},
   "outputs": [
    {
     "name": "stdout",
     "output_type": "stream",
     "text": [
      "tensor(0.9288)\n"
     ]
    }
   ],
   "source": [
    "pos_weight = torch.tensor([1,3], dtype=torch.float)\n",
    "cri_2 = nn.BCEWithLogitsLoss(pos_weight=pos_weight)\n",
    "loss_2 = cri_2(x,y)\n",
    "print(loss_2)"
   ]
  },
  {
   "cell_type": "code",
   "execution_count": 35,
   "metadata": {},
   "outputs": [
    {
     "name": "stdout",
     "output_type": "stream",
     "text": [
      "tensor([[0.5250, 0.6900]])\n",
      "tensor(0.9288)\n"
     ]
    }
   ],
   "source": [
    "sigmoid_x = nn.Sigmoid()(x)\n",
    "print(sigmoid_x)\n",
    "loss = (-torch.log(1-sigmoid_x[0][0]) -\n",
    "          3*torch.log(sigmoid_x[0][1]))/2\n",
    "print(loss)"
   ]
  },
  {
   "cell_type": "markdown",
   "metadata": {},
   "source": [
    "为不同的类添加不同的加权系数"
   ]
  },
  {
   "cell_type": "code",
   "execution_count": 47,
   "metadata": {},
   "outputs": [
    {
     "name": "stdout",
     "output_type": "stream",
     "text": [
      "tensor([[0.7444, 0.3711]])\n",
      "tensor(0.5577)\n"
     ]
    }
   ],
   "source": [
    "cri_3 = nn.BCEWithLogitsLoss(reduction='none')\n",
    "loss_3 = cri_3(x,y)\n",
    "print(loss_3)\n",
    "weights = torch.tensor([1,1], dtype=torch.float)\n",
    "loss = (weights*loss_3).mean()\n",
    "print(loss)"
   ]
  },
  {
   "cell_type": "markdown",
   "metadata": {},
   "source": [
    "## 加载预训练模型\n",
    "\n",
    "https://blog.csdn.net/weixin_41278720/article/details/80759933\n",
    "**可以只加载模型的部分参数，见上面链接**"
   ]
  },
  {
   "cell_type": "markdown",
   "metadata": {},
   "source": [
    "model.state_dict()中保存了{参数名:参数值}的字典"
   ]
  },
  {
   "cell_type": "code",
   "execution_count": 51,
   "metadata": {},
   "outputs": [],
   "source": [
    "import torchvision.models as models\n",
    "\n",
    "resnet34 = models.resnet34(pretrained=True)\n",
    "resnet34.state_dict().keys()"
   ]
  },
  {
   "cell_type": "code",
   "execution_count": null,
   "metadata": {},
   "outputs": [],
   "source": [
    "torch.save(model.state_dict(), PATH) # 保存模型为pth"
   ]
  },
  {
   "cell_type": "code",
   "execution_count": null,
   "metadata": {},
   "outputs": [],
   "source": [
    "model = ModelClass()   # 需要先建立模型\n",
    "model.load_state_dict(torch.load(PATH)) # 加载模型"
   ]
  },
  {
   "cell_type": "markdown",
   "metadata": {},
   "source": [
    "## 建立自定义数据集"
   ]
  },
  {
   "cell_type": "code",
   "execution_count": 63,
   "metadata": {},
   "outputs": [],
   "source": [
    "import torch\n",
    "from torch.utils import data\n",
    "\n",
    "class MyDataset(data.Dataset):\n",
    "    def __init__(self):\n",
    "        super(MyDataset, self).__init__()\n",
    "        self.data = torch.randn(8,2)\n",
    "    \n",
    "    def __getitem__(self, index):\n",
    "        return self.data[index], index\n",
    "    \n",
    "    def __len__(self):\n",
    "        return self.data.size()[0]"
   ]
  },
  {
   "cell_type": "code",
   "execution_count": 64,
   "metadata": {},
   "outputs": [
    {
     "name": "stdout",
     "output_type": "stream",
     "text": [
      "tensor([[-1.3907, -0.0916],\n",
      "        [-0.4626, -1.3323],\n",
      "        [ 1.4242, -2.1718],\n",
      "        [ 1.5850,  0.3320],\n",
      "        [-1.0804,  0.3884],\n",
      "        [ 0.6567, -0.1234],\n",
      "        [ 1.6721, -0.7327],\n",
      "        [-1.9595, -0.3512]])\n"
     ]
    }
   ],
   "source": [
    "data_set = MyDataset()\n",
    "print(data_set.data)"
   ]
  },
  {
   "cell_type": "code",
   "execution_count": 67,
   "metadata": {},
   "outputs": [
    {
     "name": "stdout",
     "output_type": "stream",
     "text": [
      "8\n",
      "tensor([[-1.3907, -0.0916],\n",
      "        [-0.4626, -1.3323],\n",
      "        [ 1.4242, -2.1718],\n",
      "        [ 1.5850,  0.3320]])\n",
      "tensor([0, 1, 2, 3])\n",
      "tensor([[-1.0804,  0.3884],\n",
      "        [ 0.6567, -0.1234],\n",
      "        [ 1.6721, -0.7327],\n",
      "        [-1.9595, -0.3512]])\n",
      "tensor([4, 5, 6, 7])\n"
     ]
    }
   ],
   "source": [
    "data_loader = data.DataLoader(data_set, \n",
    "                              batch_size=4,\n",
    "                              shuffle=False)\n",
    "print(len(data_set))\n",
    "for i, (number, labels) in enumerate(data_loader):\n",
    "    print(number)\n",
    "    print(labels)"
   ]
  },
  {
   "cell_type": "markdown",
   "metadata": {},
   "source": [
    "## torch.stack的用法"
   ]
  },
  {
   "cell_type": "code",
   "execution_count": 73,
   "metadata": {},
   "outputs": [
    {
     "name": "stdout",
     "output_type": "stream",
     "text": [
      "tensor([[1, 3],\n",
      "        [2, 4]])\n"
     ]
    }
   ],
   "source": [
    "a = torch.tensor([1,2])\n",
    "b = torch.tensor([3,4])\n",
    "c = torch.stack((a,b)).t()\n",
    "print(c)"
   ]
  },
  {
   "cell_type": "markdown",
   "metadata": {},
   "source": [
    "## 加载预训练模型"
   ]
  },
  {
   "cell_type": "code",
   "execution_count": null,
   "metadata": {},
   "outputs": [],
   "source": [
    "from torchvision import models\n",
    "\n",
    "model = models.resnet18(pretrained=True)\n",
    "print(model)"
   ]
  },
  {
   "cell_type": "code",
   "execution_count": null,
   "metadata": {},
   "outputs": [],
   "source": [
    "model = nn.Sequential(*list(model.children())[:-1])\n",
    "print(model)"
   ]
  },
  {
   "cell_type": "code",
   "execution_count": null,
   "metadata": {},
   "outputs": [],
   "source": []
  },
  {
   "cell_type": "code",
   "execution_count": null,
   "metadata": {},
   "outputs": [],
   "source": []
  },
  {
   "cell_type": "code",
   "execution_count": null,
   "metadata": {},
   "outputs": [],
   "source": []
  },
  {
   "cell_type": "code",
   "execution_count": null,
   "metadata": {},
   "outputs": [],
   "source": []
  },
  {
   "cell_type": "code",
   "execution_count": null,
   "metadata": {},
   "outputs": [],
   "source": []
  },
  {
   "cell_type": "code",
   "execution_count": null,
   "metadata": {},
   "outputs": [],
   "source": []
  },
  {
   "cell_type": "code",
   "execution_count": null,
   "metadata": {},
   "outputs": [],
   "source": []
  },
  {
   "cell_type": "code",
   "execution_count": null,
   "metadata": {},
   "outputs": [],
   "source": []
  },
  {
   "cell_type": "code",
   "execution_count": null,
   "metadata": {},
   "outputs": [],
   "source": []
  },
  {
   "cell_type": "code",
   "execution_count": null,
   "metadata": {},
   "outputs": [],
   "source": []
  },
  {
   "cell_type": "code",
   "execution_count": null,
   "metadata": {},
   "outputs": [],
   "source": []
  },
  {
   "cell_type": "code",
   "execution_count": null,
   "metadata": {},
   "outputs": [],
   "source": []
  },
  {
   "cell_type": "code",
   "execution_count": null,
   "metadata": {},
   "outputs": [],
   "source": []
  },
  {
   "cell_type": "code",
   "execution_count": null,
   "metadata": {},
   "outputs": [],
   "source": []
  },
  {
   "cell_type": "code",
   "execution_count": null,
   "metadata": {},
   "outputs": [],
   "source": []
  },
  {
   "cell_type": "code",
   "execution_count": null,
   "metadata": {},
   "outputs": [],
   "source": []
  },
  {
   "cell_type": "code",
   "execution_count": null,
   "metadata": {},
   "outputs": [],
   "source": []
  },
  {
   "cell_type": "code",
   "execution_count": null,
   "metadata": {},
   "outputs": [],
   "source": []
  },
  {
   "cell_type": "code",
   "execution_count": null,
   "metadata": {},
   "outputs": [],
   "source": []
  }
 ],
 "metadata": {
  "kernelspec": {
   "display_name": "Python 3",
   "language": "python",
   "name": "python3"
  },
  "language_info": {
   "codemirror_mode": {
    "name": "ipython",
    "version": 3
   },
   "file_extension": ".py",
   "mimetype": "text/x-python",
   "name": "python",
   "nbconvert_exporter": "python",
   "pygments_lexer": "ipython3",
   "version": "3.7.6"
  }
 },
 "nbformat": 4,
 "nbformat_minor": 4
}
